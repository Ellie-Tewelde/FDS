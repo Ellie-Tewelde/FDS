{
 "cells": [
  {
   "cell_type": "code",
   "execution_count": 5,
   "id": "b96c64c8-ede1-412a-b00e-6689a4b69b14",
   "metadata": {},
   "outputs": [
    {
     "name": "stdout",
     "output_type": "stream",
     "text": [
      "[ 2  8  7 11]\n"
     ]
    }
   ],
   "source": [
    "import numpy as np\n",
    "Q0 = [2, 8, 7, 11]\n",
    "Q1 = np.array(Q0)\n",
    "print(Q1)"
   ]
  },
  {
   "cell_type": "code",
   "execution_count": 7,
   "id": "f43db16f-950e-473e-aee9-70ef9f5a3b3f",
   "metadata": {},
   "outputs": [
    {
     "name": "stdout",
     "output_type": "stream",
     "text": [
      "[[1 2 3]\n",
      " [4 5 6]\n",
      " [7 8 9]]\n"
     ]
    }
   ],
   "source": [
    "import numpy as np\n",
    "\n",
    "# Define the 2D array\n",
    "Q2 = np.array([[1, 2, 3],\n",
    "               [4, 5, 6],\n",
    "               [7, 8, 9]])\n",
    "\n",
    "print(Q2)\n"
   ]
  },
  {
   "cell_type": "code",
   "execution_count": 13,
   "id": "4e4aa4ad-b2c2-435c-926b-fc602aaeb252",
   "metadata": {},
   "outputs": [],
   "source": [
    "Q3 = Q2[:, 1].reshape(-1, 1)\n"
   ]
  },
  {
   "cell_type": "code",
   "execution_count": 21,
   "id": "42664465-25b0-42b1-bb63-be75620077b3",
   "metadata": {},
   "outputs": [
    {
     "name": "stdout",
     "output_type": "stream",
     "text": [
      "[[9 3 4 0 9 1]\n",
      " [9 1 4 1 8 2]\n",
      " [4 2 5 9 6 2]\n",
      " [5 5 1 4 5 0]\n",
      " [2 2 3 5 9 5]]\n"
     ]
    }
   ],
   "source": [
    "import numpy as np\n",
    "\n",
    "# Set the random seed\n",
    "np.random.seed(6)\n",
    "\n",
    "# Create the random integer array\n",
    "Q4 = np.random.randint(0, 10, size=(5, 6))\n",
    "\n",
    "print(Q4)\n"
   ]
  },
  {
   "cell_type": "code",
   "execution_count": 33,
   "id": "e276d352-2a8a-440d-abf5-eb0b1039c9cc",
   "metadata": {},
   "outputs": [
    {
     "name": "stdout",
     "output_type": "stream",
     "text": [
      "\n",
      "Q5:\n",
      "[[3 4]\n",
      " [1 4]\n",
      " [2 5]]\n"
     ]
    }
   ],
   "source": [
    "Q5 = Q4[:3, 1:3]\n",
    "\n",
    "print(\"\\nQ5:\")\n",
    "print(Q5)\n"
   ]
  },
  {
   "cell_type": "code",
   "execution_count": 37,
   "id": "23942a11-05fe-4e4d-b692-35e41e303906",
   "metadata": {},
   "outputs": [
    {
     "data": {
      "text/plain": [
       "array([[3, 4],\n",
       "       [1, 4],\n",
       "       [2, 5]])"
      ]
     },
     "execution_count": 37,
     "metadata": {},
     "output_type": "execute_result"
    }
   ],
   "source": [
    "Q5 = Q4[:3, 1:3]\n",
    "Q5"
   ]
  },
  {
   "cell_type": "code",
   "execution_count": 39,
   "id": "ca471a03-e8cf-46bb-ba58-02d984de5d2c",
   "metadata": {},
   "outputs": [
    {
     "data": {
      "text/plain": [
       "array([[1, 4, 5],\n",
       "       [3, 5, 9]])"
      ]
     },
     "execution_count": 39,
     "metadata": {},
     "output_type": "execute_result"
    }
   ],
   "source": [
    "Q6= Q4[3:, 2:5]\n",
    "Q6"
   ]
  },
  {
   "cell_type": "code",
   "execution_count": 41,
   "id": "37b2da0d-6069-40d6-a244-b05b3ec08c2f",
   "metadata": {},
   "outputs": [
    {
     "name": "stdout",
     "output_type": "stream",
     "text": [
      "[[9 3 4 0 9 1]\n",
      " [9 1 4 1 8 2]\n",
      " [4 2 5 9 6 2]\n",
      " [5 5 1 4 5 0]\n",
      " [2 2 3 5 9 5]]\n"
     ]
    }
   ],
   "source": [
    "import numpy as np\n",
    "\n",
    "# Set the random seed\n",
    "np.random.seed(6)\n",
    "\n",
    "# Create the random integer array\n",
    "Q4 = np.random.randint(0, 10, size=(5, 6))\n",
    "\n",
    "print(Q4)"
   ]
  },
  {
   "cell_type": "code",
   "execution_count": 43,
   "id": "df910b5a-a18b-4d71-846d-537fa8c2abe8",
   "metadata": {},
   "outputs": [
    {
     "data": {
      "text/plain": [
       "array([[2, 5],\n",
       "       [5, 1]])"
      ]
     },
     "execution_count": 43,
     "metadata": {},
     "output_type": "execute_result"
    }
   ],
   "source": [
    "Q7= Q4[2:4, 1:3]\n",
    "Q7"
   ]
  },
  {
   "cell_type": "code",
   "execution_count": 45,
   "id": "b64ecec0-73d6-4d8e-83ab-80c2b3214946",
   "metadata": {},
   "outputs": [
    {
     "data": {
      "text/plain": [
       "array([[4, 0],\n",
       "       [4, 1],\n",
       "       [5, 9],\n",
       "       [1, 4],\n",
       "       [3, 5]])"
      ]
     },
     "execution_count": 45,
     "metadata": {},
     "output_type": "execute_result"
    }
   ],
   "source": [
    "Q8= Q4[: ,2:4]\n",
    "Q8"
   ]
  },
  {
   "cell_type": "code",
   "execution_count": 49,
   "id": "3448746f-5645-41ba-8975-8d1a196dca6c",
   "metadata": {},
   "outputs": [
    {
     "data": {
      "text/plain": [
       "array([[5, 5, 1, 4, 5, 0],\n",
       "       [2, 2, 3, 5, 9, 5]])"
      ]
     },
     "execution_count": 49,
     "metadata": {},
     "output_type": "execute_result"
    }
   ],
   "source": [
    "Q9= Q4[3:5 , : ]\n",
    "Q9"
   ]
  },
  {
   "cell_type": "code",
   "execution_count": null,
   "id": "e7af9314-01e7-4e24-80ac-499e17f4f68d",
   "metadata": {},
   "outputs": [],
   "source": [
    "## Final"
   ]
  }
 ],
 "metadata": {
  "kernelspec": {
   "display_name": "Python 3 (ipykernel)",
   "language": "python",
   "name": "python3"
  },
  "language_info": {
   "codemirror_mode": {
    "name": "ipython",
    "version": 3
   },
   "file_extension": ".py",
   "mimetype": "text/x-python",
   "name": "python",
   "nbconvert_exporter": "python",
   "pygments_lexer": "ipython3",
   "version": "3.12.4"
  }
 },
 "nbformat": 4,
 "nbformat_minor": 5
}
